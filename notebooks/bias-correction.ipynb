{
 "cells": [
  {
   "cell_type": "markdown",
   "id": "a7c0029e",
   "metadata": {},
   "source": [
    "# Bias correction for the UTCI dataset\n",
    "\n",
    "Note: the ERA5-HEAT data are not on JASMIN, so this is a \"run at Leeds\" notebook. The output distributions for each model will be added to this GitHub however.\n",
    "\n",
    "Here we use the ERA5-HEAT dataset from 1985 to 2014 and compare this to the derived UTCI from each climate model.\n",
    "\n",
    "Therefore, instead of bias-correcting temperature or any other variables, we bias correct the derived UTCI.\n",
    "\n",
    "We therefore assume that ERA5-HEAT is \"Truth\"! To be fair, I would probably bias correct the individual variables against their ERA5 counterparts. For all except temperature this becomes a little tricky and subjective.\n",
    "\n",
    "Update 13/05/2021: we have to regrid ERA5-HEAT to model data and not the other way around as the data and computation overhead is just too big to have everything on a 1/4 degree grid."
   ]
  },
  {
   "cell_type": "code",
   "execution_count": null,
   "id": "f517f42b",
   "metadata": {},
   "outputs": [],
   "source": [
    "import iris\n",
    "from iris.experimental.equalise_cubes import equalise_attributes\n",
    "from iris.util import unify_time_units\n",
    "import iris.analysis.cartography\n",
    "import iris.coord_categorisation\n",
    "import matplotlib.pyplot as pl\n",
    "from climateforcing.utils import mkdir_p\n",
    "import numpy as np\n",
    "import pickle\n",
    "import scipy.stats as st\n",
    "from tqdm import tqdm"
   ]
  },
  {
   "cell_type": "markdown",
   "id": "60f0c23f",
   "metadata": {},
   "source": [
    "## Obtain historical \"training\" distributions\n",
    "\n",
    "If regridding to ERA5, we need to run yearly and save output because of memory errors. This might not be required for regridding from ERA5 to each model."
   ]
  },
  {
   "cell_type": "code",
   "execution_count": null,
   "id": "1f4a7d6f",
   "metadata": {},
   "outputs": [],
   "source": [
    "era5heatdir = '/nfs/b0110/Data/ERA5-HEAT/'\n",
    "modeldir = '/nfs/b0110/Data/heatstress/HadGEM3-GC31-LL/historical/r1i1p1f3/'\n",
    "regriddir = '/nfs/b0110/Data/ERA5-HEAT/regrid/HadGEM3-GC31-LL/'\n",
    "mkdir_p(regriddir)\n",
    "\n",
    "for year in tqdm(range(1985, 2015)):\n",
    "    cube_era5 = iris.load(era5heatdir + 'ECMWF_utci_%4d????_v1.0_con.nc' % year)\n",
    "    equalise_attributes(cube_era5)\n",
    "    unify_time_units(cube_era5)\n",
    "    for cu in cube_era5:\n",
    "        cu.coord('time').points = cu.coord('time').points.astype(int)\n",
    "    cube_era5 = cube_era5.concatenate_cube()\n",
    "    cube_era5.coord('longitude').guess_bounds()\n",
    "    cube_era5.coord('latitude').guess_bounds()\n",
    "\n",
    "    cube_model = iris.load(modeldir + 'utci_3hr_HadGEM3-GC31-LL_historical_r1i1p1f3_gn_%d01010300-%d01010000.nc' % (year, year+1))\n",
    "    cube_model = cube_model.concatenate_cube()\n",
    "    # regrid the ERA5 to the model\n",
    "    if year==1985:\n",
    "        regridder = iris.analysis.AreaWeighted().regridder(cube_era5, cube_model)\n",
    "    cube_era5_regrid = regridder(cube_era5)\n",
    "    # save the output\n",
    "    iris.save(cube_era5_regrid, regriddir + 'ECMWF_utci_%d_v1.0_con.nc' % year)"
   ]
  },
  {
   "cell_type": "code",
   "execution_count": null,
   "id": "92e6936f",
   "metadata": {},
   "outputs": [],
   "source": [
    "# load up the regridding annual chunks and concatenate\n",
    "cube_era5_regrid = iris.load(regriddir + 'ECMWF_utci_*_v1.0_con.nc')\n",
    "equalise_attributes(cube_era5_regrid)\n",
    "unify_time_units(cube_era5_regrid)\n",
    "for cu in cube_era5_regrid:\n",
    "    cu.coord('time').points = cu.coord('time').points.astype(int)\n",
    "cube_era5_regrid = cube_era5_regrid.concatenate_cube()"
   ]
  },
  {
   "cell_type": "code",
   "execution_count": null,
   "id": "8bf5372b",
   "metadata": {},
   "outputs": [],
   "source": [
    "cube_era5_regrid.coord('latitude')[28]"
   ]
  },
  {
   "cell_type": "code",
   "execution_count": null,
   "id": "5a2680e8",
   "metadata": {},
   "outputs": [],
   "source": [
    "cube_era5_regrid.coord('longitude')[191]"
   ]
  },
  {
   "cell_type": "code",
   "execution_count": null,
   "id": "b63247ba",
   "metadata": {},
   "outputs": [],
   "source": [
    "cube_model.coord('latitude')[115]"
   ]
  },
  {
   "cell_type": "code",
   "execution_count": null,
   "id": "a549e1ea",
   "metadata": {},
   "outputs": [],
   "source": [
    "cube_model = iris.load(modeldir + 'utci_3hr_HadGEM3-GC31-LL_historical_r1i1p1f3_gn_*.nc')\n",
    "cube_model = cube_model.concatenate_cube()"
   ]
  },
  {
   "cell_type": "code",
   "execution_count": null,
   "id": "f23df476",
   "metadata": {},
   "outputs": [],
   "source": [
    "model_data = cube_model.data\n",
    "era5_data = cube_era5_regrid.data"
   ]
  },
  {
   "cell_type": "code",
   "execution_count": null,
   "id": "40d78483",
   "metadata": {},
   "outputs": [],
   "source": [
    "leeds_model = model_data[:,115,191]\n",
    "leeds_era5 = era5_data[:,115,191]"
   ]
  },
  {
   "cell_type": "code",
   "execution_count": null,
   "id": "47ae9ead",
   "metadata": {},
   "outputs": [],
   "source": [
    "pl.hist(leeds_model, density=True, label='HadGEM3-GC31-LL', alpha=0.3)\n",
    "pl.hist(leeds_era5, density=True, label='ERA5-HEAT', alpha=0.3)\n",
    "pl.legend()\n",
    "pl.title('Leeds grid cell, 1985-2014')"
   ]
  },
  {
   "cell_type": "code",
   "execution_count": null,
   "id": "5bc5753d",
   "metadata": {},
   "outputs": [],
   "source": [
    "# save the output\n",
    "iris.save(cube_model_regrid, '/nfs/b0110/Data/ERA5-HEAT/regrid_hadgem3_1985-2014.nc')"
   ]
  },
  {
   "cell_type": "code",
   "execution_count": null,
   "id": "d98d9a8e",
   "metadata": {},
   "outputs": [],
   "source": [
    "model_params = {}\n",
    "model_params['a'] = np.zeros((cube_model_regrid.shape[1:3]))\n",
    "model_params['loc'] = np.zeros((cube_model_regrid.shape[1:3]))\n",
    "model_params['scale'] = np.zeros((cube_model_regrid.shape[1:3]))\n",
    "model_params['lat'] = cube_model_regrid.coord('latitude').points\n",
    "model_params['lon'] = cube_model_regrid.coord('longitude').points\n",
    "\n",
    "era5_params = {}\n",
    "era5_params['a'] = np.zeros((cube_model_regrid.shape[1:3]))\n",
    "era5_params['loc'] = np.zeros((cube_model_regrid.shape[1:3]))\n",
    "era5_params['scale'] = np.zeros((cube_model_regrid.shape[1:3]))\n",
    "era5_params['lat'] = cube_model_regrid.coord('latitude').points\n",
    "era5_params['lon'] = cube_model_regrid.coord('longitude').points"
   ]
  },
  {
   "cell_type": "code",
   "execution_count": null,
   "id": "7c22e5f7",
   "metadata": {},
   "outputs": [],
   "source": [
    "st.skewnorm.fit(leeds_model)"
   ]
  },
  {
   "cell_type": "code",
   "execution_count": null,
   "id": "2bc4bee1",
   "metadata": {},
   "outputs": [],
   "source": [
    "for ilat in range(len(model_params['lat'])):\n",
    "    for ilon in range(len(model_params['lon'])):\n",
    "        model_params['a'][ilat, lon], model_params['loc'][ilat, lon], model_params['scale'][ilat, lon] = (\n",
    "            st.skewnorm.fit(model_data[:, ilat, ilon])\n",
    "        )\n",
    "        era5_params['a'][ilat, lon], era5_params['loc'][ilat, lon], era5_params['scale'][ilat, lon] = (\n",
    "            st.skewnorm.fit(era5_data[:, ilat, ilon])\n",
    "        )"
   ]
  },
  {
   "cell_type": "code",
   "execution_count": null,
   "id": "1109d84f",
   "metadata": {},
   "outputs": [],
   "source": [
    "pl.hist(leeds_model, density=True, label='HadGEM3-GC31-LL', alpha=0.3, bins=50)\n",
    "pl.hist(leeds_era5, density=True, label='ERA5-HEAT', alpha=0.3, bins=50)\n",
    "pl.plot(np.arange(240, 305), st.skewnorm.pdf(np.arange(240, 305), model_params['a'][145,715], model_params['loc'][145,715], model_params['scale'][145,715]), color='tab:blue')\n",
    "pl.plot(np.arange(240, 305), st.skewnorm.pdf(np.arange(240, 305), era5_params['a'][145,715], era5_params['loc'][145,715], era5_params['scale'][145,715]), color='tab:orange')\n",
    "pl.legend()\n",
    "pl.title('Leeds grid cell, 1985-2014')"
   ]
  },
  {
   "cell_type": "markdown",
   "id": "c7ed1fa3",
   "metadata": {},
   "source": [
    "## How to bias correct\n",
    "\n",
    "$\\hat{x}_{m,p}(t) = F^{-1}_{o,h} ( F_{m,h} (x_{m,p}(t)) )$\n",
    "\n",
    "- $x_{m,p}$ is the future predicted variable, i.e. the SSP value from the climate model\n",
    "- $F_{m,h}$ is the CDF of the historical period in the climate model\n",
    "- $F_{o,h}$ is the CDF of the historical period in the observations (or in this case, ERA5)"
   ]
  },
  {
   "cell_type": "code",
   "execution_count": null,
   "id": "cdae1173",
   "metadata": {},
   "outputs": [],
   "source": [
    "# F_{m,h}\n",
    "st.skewnorm.cdf(290, model_params['a'], model_params['loc'], model_params['scale'])"
   ]
  },
  {
   "cell_type": "code",
   "execution_count": null,
   "id": "fbdb3db3",
   "metadata": {},
   "outputs": [],
   "source": [
    "# F^{-1}_{o,h}\n",
    "st.skewnorm.ppf(0.9474796515226899, era5_params['a'], era5_params['loc'], era5_params['scale'])"
   ]
  },
  {
   "cell_type": "code",
   "execution_count": null,
   "id": "d22a7a38",
   "metadata": {},
   "outputs": [],
   "source": [
    "# transfer function\n",
    "def bias_correct(x, model_params, obs_params):\n",
    "    cdf = st.skewnorm.cdf(x, model_params['a'], model_params['loc'], model_params['scale'])\n",
    "    x_hat = st.skewnorm.ppf(cdf, obs_params['a'], obs_params['loc'], obs_params['scale'])\n",
    "    return x_hat"
   ]
  },
  {
   "cell_type": "markdown",
   "id": "54425507",
   "metadata": {},
   "source": [
    "## Bias correct future simulations\n",
    "\n",
    "For now, just use 2100"
   ]
  },
  {
   "cell_type": "code",
   "execution_count": null,
   "id": "5a7670d8",
   "metadata": {},
   "outputs": [],
   "source": [
    "modelfuturedir = '/nfs/b0110/Data/heatstress/HadGEM3-GC31-LL/ssp585/r1i1p1f3/'\n",
    "cube_model_future = iris.load(modelfuturedir + 'utci_3hr_HadGEM3-GC31-LL_ssp585_r1i1p1f3_gn_210001010300-210101010000.nc')\n",
    "cube_model_future = cube_model_future.concatenate_cube()"
   ]
  },
  {
   "cell_type": "code",
   "execution_count": null,
   "id": "b702c8ac",
   "metadata": {},
   "outputs": [],
   "source": [
    "cube_model_future"
   ]
  },
  {
   "cell_type": "code",
   "execution_count": null,
   "id": "9b597dc1",
   "metadata": {},
   "outputs": [],
   "source": [
    "cube_model_future_regrid = regridder(cube_model_future)"
   ]
  },
  {
   "cell_type": "code",
   "execution_count": null,
   "id": "a8315d93",
   "metadata": {},
   "outputs": [],
   "source": [
    "leeds_model_future = cube_model_future_regrid[:,145,715].data"
   ]
  },
  {
   "cell_type": "code",
   "execution_count": null,
   "id": "5c777293",
   "metadata": {},
   "outputs": [],
   "source": [
    "pl.hist(leeds_model, density=True, label='HadGEM3-GC31-LL 1985', alpha=0.3)\n",
    "pl.hist(leeds_era5, density=True, label='ERA5-HEAT', alpha=0.3)\n",
    "pl.hist(leeds_model_future, density=True, label='HadGEM3-GC31-LL 2100', alpha=0.3)\n",
    "pl.legend()\n",
    "pl.title('Leeds grid cell')"
   ]
  },
  {
   "cell_type": "code",
   "execution_count": null,
   "id": "ecc599b5",
   "metadata": {},
   "outputs": [],
   "source": [
    "with open('/nfs/b0110/Data/ERA5-HEAT/regrid_hadgem3_2100.npy', 'wb') as f:\n",
    "    pickle.dump(cube_model_future_regrid, f, protocol=pickle.HIGHEST_PROTOCOL)"
   ]
  },
  {
   "cell_type": "code",
   "execution_count": null,
   "id": "0a8ad24b",
   "metadata": {},
   "outputs": [],
   "source": [
    "model_future_params = {}"
   ]
  },
  {
   "cell_type": "code",
   "execution_count": null,
   "id": "3564bd40",
   "metadata": {},
   "outputs": [],
   "source": [
    "st.skewnorm.fit(leeds_model_future)"
   ]
  },
  {
   "cell_type": "code",
   "execution_count": null,
   "id": "46973949",
   "metadata": {},
   "outputs": [],
   "source": [
    "model_future_params['a'], model_future_params['loc'], model_future_params['scale'] = st.skewnorm.fit(leeds_model_future)"
   ]
  },
  {
   "cell_type": "code",
   "execution_count": null,
   "id": "f1194b1b",
   "metadata": {},
   "outputs": [],
   "source": [
    "pl.hist(leeds_model, density=True, label='HadGEM3-GC31-LL 1985', alpha=0.3, bins=50)\n",
    "pl.hist(leeds_era5, density=True, label='ERA5-HEAT', alpha=0.3, bins=50)\n",
    "pl.hist(leeds_model_future, density=True, label='HadGEM3-GC31-LL 2100', alpha=0.3, bins=50)\n",
    "pl.plot(np.arange(240, 305), st.skewnorm.pdf(np.arange(240, 305), model_params['a'], model_params['loc'], model_params['scale']), color='tab:blue')\n",
    "pl.plot(np.arange(240, 305), st.skewnorm.pdf(np.arange(240, 305), era5_params['a'], era5_params['loc'], era5_params['scale']), color='tab:orange')\n",
    "pl.plot(np.arange(240, 305), st.skewnorm.pdf(np.arange(240, 305), model_future_params['a'], model_future_params['loc'], model_future_params['scale']), color='tab:green')\n",
    "pl.legend()\n",
    "pl.title('Leeds grid cell')"
   ]
  },
  {
   "cell_type": "code",
   "execution_count": null,
   "id": "baf533d2",
   "metadata": {},
   "outputs": [],
   "source": [
    "# bias correct the Leeds 2100 projections\n",
    "leeds_model_future_biascorrected = bias_correct(leeds_model_future, model_params, era5_params)"
   ]
  },
  {
   "cell_type": "code",
   "execution_count": null,
   "id": "6fa77443",
   "metadata": {},
   "outputs": [],
   "source": [
    "pl.hist(leeds_model, density=True, label='HadGEM3-GC31-LL 1985', alpha=0.3, bins=50)\n",
    "pl.hist(leeds_era5, density=True, label='ERA5-HEAT', alpha=0.3, bins=50)\n",
    "pl.hist(leeds_model_future, density=True, label='HadGEM3-GC31-LL 2100', alpha=0.3, bins=50)\n",
    "pl.hist(leeds_model_future_biascorrected, density=True, label='Bias-corrected 2100', alpha=0.3, bins=50)\n",
    "\n",
    "pl.plot(np.arange(240, 305), st.skewnorm.pdf(np.arange(240, 305), model_params['a'], model_params['loc'], model_params['scale']), color='tab:blue')\n",
    "pl.plot(np.arange(240, 305), st.skewnorm.pdf(np.arange(240, 305), era5_params['a'], era5_params['loc'], era5_params['scale']), color='tab:orange')\n",
    "pl.plot(np.arange(240, 305), st.skewnorm.pdf(np.arange(240, 305), model_future_params['a'], model_future_params['loc'], model_future_params['scale']), color='tab:green')\n",
    "pl.legend()\n",
    "pl.title('Leeds grid cell')"
   ]
  },
  {
   "cell_type": "code",
   "execution_count": null,
   "id": "16400d2a",
   "metadata": {},
   "outputs": [],
   "source": []
  }
 ],
 "metadata": {
  "kernelspec": {
   "display_name": "Python 3",
   "language": "python",
   "name": "python3"
  },
  "language_info": {
   "codemirror_mode": {
    "name": "ipython",
    "version": 3
   },
   "file_extension": ".py",
   "mimetype": "text/x-python",
   "name": "python",
   "nbconvert_exporter": "python",
   "pygments_lexer": "ipython3",
   "version": "3.7.10"
  }
 },
 "nbformat": 4,
 "nbformat_minor": 5
}
