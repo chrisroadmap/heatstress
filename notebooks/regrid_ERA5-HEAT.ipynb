{
 "cells": [
  {
   "cell_type": "markdown",
   "id": "a7c0029e",
   "metadata": {},
   "source": [
    "# Regrid the ERA5-HEAT data\n",
    "\n",
    "Note: the ERA5-HEAT data are not on JASMIN, so this is a \"run at Leeds\" notebook. \n",
    "\n",
    "This notebook processes the 1/4 degree ERA5-HEAT dataset from 1985 to 2014, on to a 1 degree grid. This dataset size is more manageable for bias-correction than the original 1/4 degree, and is still finer than the resolution of most climate models.\n",
    "\n",
    "The regridded ERA5-HEAT data will then be uploaded to the GWS."
   ]
  },
  {
   "cell_type": "code",
   "execution_count": null,
   "id": "f517f42b",
   "metadata": {},
   "outputs": [],
   "source": [
    "import iris\n",
    "from iris.experimental.equalise_cubes import equalise_attributes\n",
    "from iris.util import unify_time_units\n",
    "import iris.analysis.cartography\n",
    "import iris.coord_categorisation\n",
    "import numpy as np\n",
    "from tqdm import tqdm\n",
    "import glob"
   ]
  },
  {
   "cell_type": "markdown",
   "id": "7797441f",
   "metadata": {},
   "source": [
    "## Make a dummy grid\n",
    "\n",
    "iris needs something to regrid to: we have to make it from scratch because we're not importing the 1 degree grid from a model."
   ]
  },
  {
   "cell_type": "code",
   "execution_count": null,
   "id": "0bfc74cd",
   "metadata": {},
   "outputs": [],
   "source": [
    "latitude = iris.coords.DimCoord(\n",
    "    np.arange(-89.5,90,1),\n",
    "    standard_name='latitude',\n",
    "    units='degrees',\n",
    "    long_name='Latitude',\n",
    "    var_name='lat',\n",
    "    coord_system=None\n",
    ")\n",
    "longitude = iris.coords.DimCoord(\n",
    "    np.arange(-179.5,180,1),\n",
    "    standard_name='longitude',\n",
    "    long_name='Longitude',\n",
    "    var_name='lon',\n",
    "    units='degrees',\n",
    "    circular=True,\n",
    "    coord_system=None\n",
    ")\n",
    "\n",
    "ny = len(latitude.points)\n",
    "nx = len(longitude.points)\n",
    "\n",
    "dummy_data = np.zeros((ny, nx))\n",
    "dummy_cube = iris.cube.Cube(dummy_data, dim_coords_and_dims=[(latitude, 0), (longitude, 1)])\n",
    "dummy_cube.coord('longitude').guess_bounds()\n",
    "dummy_cube.coord('latitude').guess_bounds()"
   ]
  },
  {
   "cell_type": "markdown",
   "id": "60f0c23f",
   "metadata": {},
   "source": [
    "## Do the regrid and save output"
   ]
  },
  {
   "cell_type": "code",
   "execution_count": null,
   "id": "9dc7ff8c",
   "metadata": {},
   "outputs": [],
   "source": [
    "era5heatdir = '/nfs/b0110/Data/ERA5-HEAT/original/'\n",
    "regriddir = '/nfs/b0110/Data/ERA5-HEAT/regrid_1deg/'\n",
    "\n",
    "filelist = glob.glob('/nfs/b0110/Data/ERA5-HEAT/original/*.nc')\n",
    "for file in tqdm(filelist):\n",
    "    pass"
   ]
  },
  {
   "cell_type": "code",
   "execution_count": null,
   "id": "1f4a7d6f",
   "metadata": {},
   "outputs": [],
   "source": [
    "first_file = True\n",
    "for file in tqdm(filelist):\n",
    "    cube_era5 = iris.load_cube(file)\n",
    "    filename = file.split('/')[-1]\n",
    "    #equalise_attributes(cube_era5)\n",
    "    #unify_time_units(cube_era5)\n",
    "    #for cu in cube_era5:\n",
    "    #    cu.coord('time').points = cu.coord('time').points.astype(int)\n",
    "    #cube_era5 = cube_era5.concatenate_cube()\n",
    "    cube_era5.coord('longitude').guess_bounds()\n",
    "    cube_era5.coord('latitude').guess_bounds()\n",
    "\n",
    "    # regrid the ERA5 to the new grid\n",
    "    if first_file:\n",
    "        regridder = iris.analysis.AreaWeighted().regridder(cube_era5, dummy_cube)\n",
    "        first_file = False\n",
    "    cube_era5_regrid = regridder(cube_era5)\n",
    "    # save the output\n",
    "    iris.save(cube_era5_regrid, regriddir + filename)"
   ]
  },
  {
   "cell_type": "code",
   "execution_count": null,
   "id": "16400d2a",
   "metadata": {},
   "outputs": [],
   "source": []
  }
 ],
 "metadata": {
  "kernelspec": {
   "display_name": "Python 3",
   "language": "python",
   "name": "python3"
  },
  "language_info": {
   "codemirror_mode": {
    "name": "ipython",
    "version": 3
   },
   "file_extension": ".py",
   "mimetype": "text/x-python",
   "name": "python",
   "nbconvert_exporter": "python",
   "pygments_lexer": "ipython3",
   "version": "3.7.10"
  }
 },
 "nbformat": 4,
 "nbformat_minor": 5
}
