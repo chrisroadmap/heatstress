{
 "cells": [
  {
   "cell_type": "markdown",
   "metadata": {},
   "source": [
    "# Run 2015-2049\n",
    "\n",
    "Memory errors for Xiaoya, so need to run one year at a time (this is probably an issue for a lot of computers)"
   ]
  },
  {
   "cell_type": "code",
   "execution_count": null,
   "metadata": {},
   "outputs": [],
   "source": [
    "from climateforcing.utci import universal_thermal_climate_index, mean_radiant_temperature\n",
    "from climateforcing.solar import cos_mean_solar_zenith_angle, modified_julian_date\n",
    "import climateforcing\n",
    "import cftime\n",
    "import datetime\n",
    "import numpy as np\n",
    "import iris\n",
    "import matplotlib.pyplot as pl\n",
    "import warnings\n",
    "\n",
    "from tqdm import tqdm  # stuff takes a while - let's find out how long"
   ]
  },
  {
   "cell_type": "code",
   "execution_count": null,
   "metadata": {},
   "outputs": [],
   "source": [
    "cftime.__version__  # must be >= 1.4"
   ]
  },
  {
   "cell_type": "code",
   "execution_count": null,
   "metadata": {},
   "outputs": [],
   "source": [
    "climateforcing.__version__  # must be >= 0.2.1"
   ]
  },
  {
   "cell_type": "code",
   "execution_count": null,
   "metadata": {},
   "outputs": [],
   "source": [
    "# iris lazy-loads data, so I *think* it should be OK to keep these lines\n",
    "path = '/nfs/b0110/Data/cmip6/HadGEM3-GC31-LL/ssp585/r1i1p1f3/3hr/'  # will need to change for JASMIN\n",
    "\n",
    "with warnings.catch_warnings():\n",
    "    warnings.simplefilter('ignore')\n",
    "    tas_cube = iris.load_cube(path + 'tas/gn/tas_3hr_HadGEM3-GC31-LL_ssp585_r1i1p1f3_gn_201501010300-205001010000.nc')\n",
    "    huss_cube = iris.load_cube(path + 'huss/gn/huss_3hr_HadGEM3-GC31-LL_ssp585_r1i1p1f3_gn_201501010300-205001010000.nc')\n",
    "    rlds_cube = iris.load_cube(path + 'rlds/gn/rlds_3hr_HadGEM3-GC31-LL_ssp585_r1i1p1f3_gn_201501010130-204912302230.nc')\n",
    "    rlus_cube = iris.load_cube(path + 'rlus/gn/rlus_3hr_HadGEM3-GC31-LL_ssp585_r1i1p1f3_gn_201501010130-204912302230.nc')\n",
    "    rsds_cube = iris.load_cube(path + 'rsds/gn/rsds_3hr_HadGEM3-GC31-LL_ssp585_r1i1p1f3_gn_201501010130-204912302230.nc')\n",
    "    rsus_cube = iris.load_cube(path + 'rsus/gn/rsus_3hr_HadGEM3-GC31-LL_ssp585_r1i1p1f3_gn_201501010130-204912302230.nc')\n",
    "    rsdsdiff_cube = iris.load_cube(path + 'rsdsdiff/gn/rsdsdiff_3hr_HadGEM3-GC31-LL_ssp585_r1i1p1f3_gn_201501010130-204912302230.nc')\n",
    "    uas_cube = iris.load_cube(path + 'uas/gn/uas_3hr_HadGEM3-GC31-LL_ssp585_r1i1p1f3_gn_201501010300-205001010000.nc')\n",
    "    vas_cube = iris.load_cube(path + 'vas/gn/vas_3hr_HadGEM3-GC31-LL_ssp585_r1i1p1f3_gn_201501010300-205001010000.nc')"
   ]
  },
  {
   "cell_type": "code",
   "execution_count": null,
   "metadata": {},
   "outputs": [],
   "source": [
    "lat = tas_cube.coord('latitude').points\n",
    "lon = tas_cube.coord('longitude').points\n",
    "\n",
    "lonmesh, latmesh = np.meshgrid(lon, lat)\n",
    "lonmesh.shape"
   ]
  },
  {
   "cell_type": "markdown",
   "metadata": {},
   "source": [
    "## Run everything in one cell\n",
    "\n",
    "Avoid the memory errors, keep chunks to one year = 2880 time steps"
   ]
  },
  {
   "cell_type": "code",
   "execution_count": null,
   "metadata": {},
   "outputs": [],
   "source": [
    "years = np.arange(2015, 2050)\n",
    "nyears = len(years)\n",
    "for iyear, year in tqdm(enumerate(years), total=nyears):  # tqdm give you a progress bar\n",
    "    \n",
    "    # get an array of zenith angles and lit fractions for 2100\n",
    "    mjd = np.zeros(2880)\n",
    "    first_day = cftime.datetime(year, 1, 1, 1, 30, calendar=\"360_day\")\n",
    "    for imjd in range(2880):\n",
    "        mjd[imjd] = modified_julian_date(first_day + datetime.timedelta(hours=3*imjd))\n",
    "    mean_cosz = np.ones((2880, 144, 192)) * np.nan\n",
    "    lit = np.ones((2880, 144, 192)) * np.nan\n",
    "    for i in range(2880):\n",
    "        mean_cosz[i, ...], lit[i, ...] = cos_mean_solar_zenith_angle(mjd[i], 3, lat, lon)\n",
    "        \n",
    "    # calculate the mean radiant temperature. Here, we only extract one year at a time\n",
    "    mrt = mean_radiant_temperature(\n",
    "        {\n",
    "            \"rlds\": rlds_cube[2880*iyear:2880*(iyear+1)].data,\n",
    "            \"rlus\": rlus_cube[2880*iyear:2880*(iyear+1)].data,\n",
    "            \"rsdsdiff\": rsdsdiff_cube[2880*iyear:2880*(iyear+1)].data,\n",
    "            \"rsus\": rsus_cube[2880*iyear:2880*(iyear+1)].data,\n",
    "            \"rsds\": rsds_cube[2880*iyear:2880*(iyear+1)].data,\n",
    "        },\n",
    "        angle_factor_down=0.5,\n",
    "        angle_factor_up=0.5,\n",
    "        absorption=0.7,\n",
    "        emissivity=0.97,\n",
    "        cos_zenith=mean_cosz,\n",
    "        lit=lit\n",
    "    )\n",
    "    \n",
    "    # wind - again one year at a time\n",
    "    # uas and vas on different grids and should be regridded to the same grid as tas\n",
    "    # I am not sure area weighted regridding makes sense for wind speed, so use linear\n",
    "    uas_cube_regrid = uas_cube[2880*iyear:2880*(iyear+1)].regrid(tas_cube, iris.analysis.Linear())\n",
    "    vas_cube_regrid = vas_cube[2880*iyear:2880*(iyear+1)].regrid(tas_cube, iris.analysis.Linear())\n",
    "    wind = np.sqrt(uas_cube_regrid.data**2 + vas_cube_regrid.data**2)\n",
    "    \n",
    "    # calculate UTCI\n",
    "    utci = universal_thermal_climate_index(\n",
    "        {\n",
    "            \"tas\": tas_cube[2880*iyear:2880*(iyear+1)].data,\n",
    "            \"sfcWind\": wind,\n",
    "            \"huss\": huss_cube[2880*iyear:2880*(iyear+1)].data\n",
    "        },\n",
    "        mrt\n",
    "    )\n",
    "    \n",
    "    # make cubes out of output\n",
    "    utci_cube = iris.cube.Cube(\n",
    "        utci,\n",
    "        units='K',\n",
    "        var_name='utci',\n",
    "        long_name='Universal Thermal Climate Index',\n",
    "        dim_coords_and_dims=[\n",
    "            (tas_cube[2880*iyear:2880*(iyear+1)].coord('time'), 0),\n",
    "            (tas_cube.coord('latitude'), 1),\n",
    "            (tas_cube.coord('longitude'), 2)\n",
    "        ]\n",
    "    )\n",
    "\n",
    "    mrt_cube = iris.cube.Cube(\n",
    "        mrt,\n",
    "        units='K',\n",
    "        var_name='mrt',\n",
    "        long_name='Mean Radiant Temperature',\n",
    "        dim_coords_and_dims=[\n",
    "            (tas_cube[2880*iyear:2880*(iyear+1)].coord('time'), 0),\n",
    "            (tas_cube.coord('latitude'), 1),\n",
    "            (tas_cube.coord('longitude'), 2)\n",
    "        ]\n",
    "    )\n",
    "    \n",
    "    # Xiaoya (or anybody else following this!): change the output path to somewhere on your local machine\n",
    "    # You might want to not save mrt to save space\n",
    "    iris.save(utci_cube, '/nfs/b0110/Data/heatstress/utci_3hr_HadGEM3-GC31-LL_ssp585_r1i1p1f3_gn_%04d01010300-%04d01010000.nc' % (year, year+1))\n",
    "    iris.save(utci_cube, '/nfs/b0110/Data/heatstress/mrt_3hr_HadGEM3-GC31-LL_ssp585_r1i1p1f3_gn_%04d01010300-%04d01010000.nc' % (year, year+1))"
   ]
  },
  {
   "cell_type": "code",
   "execution_count": null,
   "metadata": {},
   "outputs": [],
   "source": []
  }
 ],
 "metadata": {
  "kernelspec": {
   "display_name": "Python 3",
   "language": "python",
   "name": "python3"
  },
  "language_info": {
   "codemirror_mode": {
    "name": "ipython",
    "version": 3
   },
   "file_extension": ".py",
   "mimetype": "text/x-python",
   "name": "python",
   "nbconvert_exporter": "python",
   "pygments_lexer": "ipython3",
   "version": "3.7.10"
  }
 },
 "nbformat": 4,
 "nbformat_minor": 4
}
